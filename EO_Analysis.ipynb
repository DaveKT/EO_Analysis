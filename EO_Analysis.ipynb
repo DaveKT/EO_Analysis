{
 "cells": [
  {
   "cell_type": "markdown",
   "id": "445cb745",
   "metadata": {},
   "source": [
    "# AI Assisted Executive Order Analysis"
   ]
  },
  {
   "cell_type": "code",
   "execution_count": null,
   "id": "cb9c09d9",
   "metadata": {},
   "outputs": [],
   "source": [
    "import pandas as pd\n",
    "import requests\n",
    "from bs4 import BeautifulSoup\n",
    "import csv\n",
    "from openai import OpenAI\n",
    "import my_secrets"
   ]
  },
  {
   "cell_type": "code",
   "execution_count": null,
   "id": "5eb0bd5d",
   "metadata": {},
   "outputs": [],
   "source": [
    "# Set your OpenAI API key\n",
    "\n",
    "client = OpenAI(api_key=my_secrets.OPENAI_API_KEY)"
   ]
  },
  {
   "cell_type": "code",
   "execution_count": null,
   "id": "97663d9a",
   "metadata": {},
   "outputs": [],
   "source": [
    "# Load the input CSV, scripts that generated this document are in the Initial_EO_Research directory\n",
    "input_file = 'federal_register_eos.csv'\n",
    "df = pd.read_csv(input_file)"
   ]
  },
  {
   "cell_type": "markdown",
   "id": "320b6d2e",
   "metadata": {},
   "source": [
    "## AI Analysis\n",
    "\n",
    "In my initial tests this block ran for 18 minutes. Going to check into rate limiting. Also, for some reason the results were sporadially incomplete. This can do with some tweaking."
   ]
  },
  {
   "cell_type": "markdown",
   "id": "7ab4d1cf",
   "metadata": {},
   "source": [
    "<div class=\"alert alert-block alert-warning\">\n",
    "\n",
    "The code in the block below **WILL COST YOU MONEY**!\n",
    "\n",
    "</div>"
   ]
  },
  {
   "cell_type": "code",
   "execution_count": null,
   "id": "17809612",
   "metadata": {},
   "outputs": [],
   "source": [
    "results = []\n",
    "\n",
    "def analyze_text(text):\n",
    "    prompt = (\n",
    "        \"Read the following Executive Order text and return two things:\\n\"\n",
    "        \"1. A one or two word sentiment (like 'positive', 'neutral', 'urgent')\\n\"\n",
    "        \"2. A brief summary in one or two sentences.\\n\\n\"\n",
    "        f\"Text:\\n{text[:3000]}\\n\\n\"  # Truncate to stay within limits\n",
    "        \"Return result as:\\nSentiment: <sentiment>\\nSummary: <summary>\"\n",
    "    )\n",
    "\n",
    "    try:\n",
    "        response = client.chat.completions.create(\n",
    "            model=\"gpt-4\",\n",
    "            messages=[{\"role\": \"user\", \"content\": prompt}],\n",
    "            temperature=0.5,\n",
    "            max_tokens=200\n",
    "        )\n",
    "\n",
    "        output = response.choices[0].message.content\n",
    "        sentiment = \"\"\n",
    "        summary = \"\"\n",
    "        for line in output.splitlines():\n",
    "            if line.lower().startswith(\"sentiment:\"):\n",
    "                sentiment = line.split(\":\", 1)[1].strip()\n",
    "            elif line.lower().startswith(\"summary:\"):\n",
    "                summary = line.split(\":\", 1)[1].strip()\n",
    "        return sentiment, summary\n",
    "\n",
    "    except Exception as e:\n",
    "        print(f\"Error processing text: {e}\")\n",
    "        return \"Error\", \"Could not process content\"\n",
    "\n",
    "# Loop through each EO URL\n",
    "for index, row in df.iterrows():\n",
    "    eo_number = row['EO #']\n",
    "    url = row['URL']\n",
    "    try:\n",
    "        response = requests.get(url, timeout=10)\n",
    "        soup = BeautifulSoup(response.content, 'html.parser')\n",
    "\n",
    "        # Extract EO content\n",
    "        content_div = soup.find('div', {'class': 'abstract'}) or soup.find('div', {'id': 'document'})\n",
    "        text = content_div.get_text(strip=True, separator=' ') if content_div else ''\n",
    "\n",
    "        # Use OpenAI to get sentiment and summary\n",
    "        sentiment, summary = analyze_text(text[:4000])  # Truncate to fit prompt size limit\n",
    "\n",
    "        results.append({\n",
    "            'EO Number': eo_number,\n",
    "            'Content Sentiment': sentiment,\n",
    "            'Summary': summary\n",
    "        })\n",
    "\n",
    "    except Exception as e:\n",
    "        results.append({\n",
    "            'EO Number': eo_number,\n",
    "            'Content Sentiment': 'error',\n",
    "            'Summary': f'Failed to process: {e}'\n",
    "        })"
   ]
  },
  {
   "cell_type": "markdown",
   "id": "e5efed09",
   "metadata": {},
   "source": [
    "### Export Results to CSV"
   ]
  },
  {
   "cell_type": "code",
   "execution_count": null,
   "id": "4bf882b4",
   "metadata": {},
   "outputs": [],
   "source": [
    "output_file = 'eo_summary_output.csv'\n",
    "with open(output_file, 'w', newline='', encoding='utf-8') as f:\n",
    "    writer = csv.DictWriter(f, fieldnames=['EO Number', 'Content Sentiment', 'Summary'])\n",
    "    writer.writeheader()\n",
    "    writer.writerows(results)\n",
    "\n",
    "print(f\"Output written to {output_file}\")"
   ]
  }
 ],
 "metadata": {
  "kernelspec": {
   "display_name": ".venv",
   "language": "python",
   "name": "python3"
  },
  "language_info": {
   "codemirror_mode": {
    "name": "ipython",
    "version": 3
   },
   "file_extension": ".py",
   "mimetype": "text/x-python",
   "name": "python",
   "nbconvert_exporter": "python",
   "pygments_lexer": "ipython3",
   "version": "3.13.3"
  }
 },
 "nbformat": 4,
 "nbformat_minor": 5
}
